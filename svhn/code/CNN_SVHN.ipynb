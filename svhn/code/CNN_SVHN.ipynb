{
 "cells": [
  {
   "cell_type": "code",
   "execution_count": 1,
   "metadata": {
    "collapsed": false,
    "deletable": true,
    "editable": true
   },
   "outputs": [
    {
     "name": "stderr",
     "output_type": "stream",
     "text": [
      "/home/james/.local/lib/python3.5/site-packages/h5py/__init__.py:36: FutureWarning: Conversion of the second argument of issubdtype from `float` to `np.floating` is deprecated. In future, it will be treated as `np.float64 == np.dtype(float).type`.\n",
      "  from ._conv import register_converters as _register_converters\n"
     ]
    },
    {
     "data": {
      "text/plain": [
       "'1.8.0'"
      ]
     },
     "execution_count": 1,
     "metadata": {},
     "output_type": "execute_result"
    }
   ],
   "source": [
    "# -*- coding: utf-8 -*-\n",
    "\"\"\"\n",
    "Created on Sun May 27 15:21:41 2018\n",
    "\n",
    "@author: james.macdonald\n",
    "\"\"\"\n",
    "\n",
    "import matplotlib.pyplot as plt\n",
    "import tensorflow as tf\n",
    "import numpy as np\n",
    "from sklearn.metrics import confusion_matrix\n",
    "import datetime as dt\n",
    "import random, subprocess, os\n",
    "from scipy.io import loadmat\n",
    "\n",
    "tf.__version__"
   ]
  },
  {
   "cell_type": "code",
   "execution_count": 2,
   "metadata": {
    "collapsed": false,
    "deletable": true,
    "editable": true
   },
   "outputs": [],
   "source": [
    "def download_dataset(url):\n",
    "    fname = url.split(\"/\")[-1]\n",
    "    if fname not in os.listdir('./'):\n",
    "        cmd = 'wget '+url\n",
    "        subprocess.call(cmd, shell=True)\n",
    "    return fname\n",
    "    \n",
    "train = download_dataset('http://ufldl.stanford.edu/housenumbers/train_32x32.mat')\n",
    "test = download_dataset('http://ufldl.stanford.edu/housenumbers/test_32x32.mat')\n",
    "extra = download_dataset('http://ufldl.stanford.edu/housenumbers/extra_32x32.mat')\n",
    "\n",
    "train = 'train_32x32.mat'\n",
    "test = 'test_32x32.mat'\n",
    "extra = 'extra_32x32.mat'\n",
    "\n",
    "#data_dic = {i:loadmat(i) for i in [train,test]} # include extra in list for extra\n",
    "\n",
    "#X = np.array([data_dic['train_32x32.mat']['X'][:,:,:,i] for i in range(data_dic['train_32x32.mat']['X'].shape[3])])\n",
    "#y = np.array(data_dic['train_32x32.mat']['y'])\n",
    "#y[y==10] = 0\n",
    "\n",
    "def to_greyscale(data):\n",
    "    return np.dot(data, np.array([0.299, 0.587, 0.114]))"
   ]
  },
  {
   "cell_type": "code",
   "execution_count": 3,
   "metadata": {
    "collapsed": false,
    "deletable": true,
    "editable": true
   },
   "outputs": [],
   "source": [
    "def get_shuffled_index(count_obs, mbatch_size = 250):\n",
    "    ix = np.array(range(count_obs))\n",
    "    np.random.shuffle(ix)\n",
    "    return ix\n",
    "\n",
    "class Dataset(object):\n",
    "    \n",
    "    def __init__(self, location):\n",
    "        data_dic = loadmat(location)\n",
    "        self._images = to_greyscale(np.array([data_dic['X'][:,:,:,i] for i in range(data_dic['X'].shape[3])]))\n",
    "        self._num_examples = len(self._images)\n",
    "        self._cls = np.array(data_dic['y'][:,0])\n",
    "        self._cls[self._cls==10] = 0\n",
    "        labels = np.zeros([len(self._cls),10])\n",
    "        labels[range(len(labels)),self._cls] = 1\n",
    "        self._labels = labels\n",
    "        self._index_in_epoch = 0\n",
    "        self._img_names = self._labels\n",
    "        self._epochs_done = 0\n",
    "        \n",
    "    @property\n",
    "    def images(self):\n",
    "        return self._images\n",
    "\n",
    "    @property\n",
    "    def labels(self):\n",
    "        return self._labels\n",
    "\n",
    "    @property\n",
    "    def img_names(self):\n",
    "        return self._img_names\n",
    "\n",
    "    @property\n",
    "    def cls(self):\n",
    "        return self._cls\n",
    "\n",
    "    @property\n",
    "    def num_examples(self):\n",
    "        return self._num_examples\n",
    "    \n",
    "\n",
    "    def next_batch(self, batch_size):\n",
    "        \"\"\"Return the next `batch_size` examples from this data set.\"\"\"\n",
    "        start = self._index_in_epoch\n",
    "        self._index_in_epoch += batch_size\n",
    "\n",
    "        if self._index_in_epoch > self._num_examples:\n",
    "            # After each epoch we update this\n",
    "            self._epochs_done += 1\n",
    "            start = 0\n",
    "            self._index_in_epoch = batch_size\n",
    "            assert batch_size <= self._num_examples\n",
    "        end = self._index_in_epoch\n",
    "\n",
    "        return self._images[start:end], self._labels[start:end], self._img_names[start:end], self._cls[start:end]\n",
    "    \n",
    "def read_train_sets():\n",
    "    class DataSets(object):\n",
    "        pass\n",
    "    data_sets = DataSets()\n",
    "    \n",
    "    data_sets.train = Dataset(train)\n",
    "    data_sets.validation = Dataset(test)\n",
    "    \n",
    "    return data_sets\n",
    "\n",
    "data = read_train_sets()"
   ]
  },
  {
   "cell_type": "code",
   "execution_count": 4,
   "metadata": {
    "collapsed": true,
    "deletable": true,
    "editable": true
   },
   "outputs": [],
   "source": [
    "def plot_images(images, cls_true, img_shape=None, cls_pred=None):\n",
    "    assert len(images) == len(cls_true) == 9\n",
    "    fig, axes = plt.subplots(3, 3)\n",
    "    fig.subplots_adjust(hspace=0.3, wspace=0.3)\n",
    "\n",
    "    for i, ax in enumerate(axes.flat):\n",
    "        ax.imshow(images[i].reshape((img_size,img_size)), cmap='binary')\n",
    "\n",
    "        if cls_pred is None:\n",
    "            xlabel = \"True: {0}\".format(cls_true[i])\n",
    "        else:\n",
    "            xlabel = \"True: {0}, Pred: {1}\".format(cls_true[i], cls_pred[i])\n",
    "\n",
    "        # Show the classes as the label on the x-axis.\n",
    "        ax.set_xlabel(xlabel)\n",
    "        ax.set_xticks([])\n",
    "        ax.set_yticks([])\n",
    "\n",
    "    plt.show()"
   ]
  },
  {
   "cell_type": "code",
   "execution_count": 5,
   "metadata": {
    "collapsed": false,
    "deletable": true,
    "editable": true
   },
   "outputs": [
    {
     "data": {
      "image/png": "[encoded data removed]",
      "text/plain": [
       "<matplotlib.figure.Figure at 0x7fc023f9c4e0>"
      ]
     },
     "metadata": {},
     "output_type": "display_data"
    }
   ],
   "source": [
    "validation_size = 0.2\n",
    "img_size = 32\n",
    "num_channels = 1\n",
    "num_classes = 10\n",
    "batch_size = 132\n",
    "train_batch_size = batch_size\n",
    "\n",
    "img_size_flat = img_size * img_size * num_channels\n",
    "img_shape = (img_size, img_size, num_channels)\n",
    "\n",
    "images = data.validation.images[0:9]\n",
    "cls_true = data.validation.cls[0:9]\n",
    "\n",
    "plot_images(images=images, cls_true=cls_true)"
   ]
  },
  {
   "cell_type": "code",
   "execution_count": 6,
   "metadata": {
    "collapsed": true,
    "deletable": true,
    "editable": true
   },
   "outputs": [],
   "source": [
    "\n",
    "# ### *Step 2:* Configuration of CNNs\n",
    "# \n",
    "# The configuration of the Convolutional Neural Network is defined here for convenience, so you can easily find and change these numbers and re-run the Notebook.\n",
    "\n",
    "# In[7]:\n",
    "\n",
    "# Exp 3 : 10000 iterations val accuracy:22.5\n",
    "# Convolutional Layer 1.\n",
    "filter_size1 = 5          # Convolution filters are 5 x 5 pixels.\n",
    "num_filters1 = 16         # There are 16 of these filters.\n",
    "stride_size1 = 1\n",
    "\n",
    "# Convolutional Layer 2.\n",
    "filter_size2 = 5          # Convolution filters are 5 x 5 pixels.\n",
    "num_filters2 = 32         # There are 36 of these filters.\n",
    "stride_size2 = 1\n",
    "\n",
    "# Convolutional Layer 3.\n",
    "filter_size3 = 5          # Convolution filters are 5 x 5 pixels.\n",
    "num_filters3 = 64         # There are 36 of these filters.\n",
    "stride_size3 = 1\n",
    "\n",
    "# Convolutional Layer 2.\n",
    "filter_size4 = 5          # Convolution filters are 5 x 5 pixels.\n",
    "num_filters4 = 128         # There are 36 of these filters.\n",
    "stride_size4 = 1\n",
    "\n",
    "\n",
    "# Fully-connected layer.\n",
    "fc_size = 500             # Number of neurons in fully-connected layer.\n",
    "dropout = 0.1\n",
    "\n",
    "regularization_coefficient = 0.01\n"
   ]
  },
  {
   "cell_type": "code",
   "execution_count": 7,
   "metadata": {
    "collapsed": true,
    "deletable": true,
    "editable": true
   },
   "outputs": [],
   "source": [
    "def new_weights(shape):\n",
    "    return tf.Variable(tf.truncated_normal(shape, stddev=0.05))\n",
    "\n",
    "def new_biases(length):\n",
    "    return tf.Variable(tf.constant(0.05, shape=[length]))\n",
    "\n",
    "\n",
    "def new_conv_layer(input,              # The previous layer.\n",
    "                   num_input_channels, # Num. channels in prev. layer.\n",
    "                   filter_size,        # Width and height of each filter.\n",
    "                   num_filters,        # Number of filters.\n",
    "                   stride_size,        # Stride over x- and y- channel\n",
    "                   use_pooling=True):  # Use 2x2 max-pooling.\n",
    "\n",
    "    shape = [filter_size, filter_size, num_input_channels, num_filters]\n",
    "    weights = new_weights(shape=shape)\n",
    "    biases = new_biases(length=num_filters)\n",
    "    strides =[1, stride_size, stride_size, 1]\n",
    "    \n",
    "    layer = tf.nn.conv2d(input=input,\n",
    "                         filter=weights,\n",
    "                         strides=strides,\n",
    "                         padding='SAME')\n",
    "\n",
    "    layer += biases\n",
    "    if use_pooling:\n",
    "        layer = tf.nn.max_pool(value=layer,\n",
    "                               ksize=[1, 2, 2, 1],\n",
    "                               strides=[1, 2, 2, 1],\n",
    "                               padding='SAME')\n",
    "\n",
    "    layer = tf.nn.relu(layer)\n",
    "    return layer, weights\n",
    "\n",
    "def flatten_layer(layer):\n",
    "    layer_shape = layer.get_shape()\n",
    "    num_features = layer_shape[1:4].num_elements()\n",
    "    layer_flat = tf.reshape(layer, [-1, num_features])\n",
    "    return layer_flat, num_features\n",
    "\n",
    "\n",
    "def new_fc_layer(input, num_inputs, num_outputs, use_relu=True, dropout=0.05): \n",
    "    weights = new_weights(shape=[num_inputs, num_outputs])\n",
    "    biases = new_biases(length=num_outputs)\n",
    "    layer = tf.matmul(input, weights) + biases\n",
    "    if use_relu:\n",
    "        layer = tf.nn.relu(layer)\n",
    "    layer = tf.nn.dropout(layer, 1-dropout)\n",
    "    return layer, weights\n"
   ]
  },
  {
   "cell_type": "code",
   "execution_count": 9,
   "metadata": {
    "collapsed": false,
    "deletable": true,
    "editable": true
   },
   "outputs": [
    {
     "name": "stdout",
     "output_type": "stream",
     "text": [
      "WARNING:tensorflow:From <ipython-input-9-ee8719334587>:51: softmax_cross_entropy_with_logits (from tensorflow.python.ops.nn_ops) is deprecated and will be removed in a future version.\n",
      "Instructions for updating:\n",
      "\n",
      "Future major versions of TensorFlow will allow gradients to flow\n",
      "into the labels input on backprop by default.\n",
      "\n",
      "See @{tf.nn.softmax_cross_entropy_with_logits_v2}.\n",
      "\n"
     ]
    }
   ],
   "source": [
    "x = tf.placeholder(tf.float32, shape=[None, img_size, img_size], name='x')\n",
    "x_image = tf.reshape(x, [-1, img_size, img_size, num_channels])\n",
    "\n",
    "y_true = tf.placeholder(tf.float32, shape=[None, num_classes], name='y_true')\n",
    "y_true_cls = tf.argmax(y_true, axis=1)\n",
    "\n",
    "\n",
    "layer_conv1, weights_conv1 =     new_conv_layer(input=x_image,\n",
    "                   num_input_channels=num_channels,\n",
    "                   filter_size=filter_size1,\n",
    "                   num_filters=num_filters1,\n",
    "                   stride_size=stride_size1,\n",
    "                   use_pooling=False)\n",
    "\n",
    "layer_conv2, weights_conv2 =     new_conv_layer(input=layer_conv1,\n",
    "                   num_input_channels=num_filters1,\n",
    "                   filter_size=filter_size2,\n",
    "                   num_filters=num_filters2,\n",
    "                   stride_size=stride_size2,\n",
    "                   use_pooling=True)\n",
    "\n",
    "layer_conv3, weights_conv3 =     new_conv_layer(input=layer_conv2,\n",
    "                   num_input_channels=num_filters2,\n",
    "                   filter_size=filter_size3,\n",
    "                   num_filters=num_filters3,\n",
    "                   stride_size=stride_size3,\n",
    "                   use_pooling=False)\n",
    "\n",
    "layer_conv4, weights_conv4 =     new_conv_layer(input=layer_conv3,\n",
    "                   num_input_channels=num_filters3,\n",
    "                   filter_size=filter_size4,\n",
    "                   num_filters=num_filters4,\n",
    "                   stride_size=stride_size4,\n",
    "                   use_pooling=True)\n",
    "\n",
    "layer_flat, num_features = flatten_layer(layer_conv4)\n",
    "\n",
    "\n",
    "layer_fc1, fc1_weights = new_fc_layer(input=layer_flat,\n",
    "                         num_inputs=num_features,\n",
    "                         num_outputs=fc_size,\n",
    "                         use_relu=True)\n",
    "\n",
    "layer_fc2, fc2_weights = new_fc_layer(input=layer_fc1,\n",
    "                         num_inputs=fc_size,\n",
    "                         num_outputs=num_classes,\n",
    "                         use_relu=False)\n",
    "\n",
    "y_pred = tf.nn.softmax(layer_fc2)\n",
    "y_pred_cls = tf.argmax(y_pred, axis=1)\n",
    "cross_entropy = tf.nn.softmax_cross_entropy_with_logits(logits=layer_fc2, labels=y_true)\n",
    "\n",
    "cost = tf.reduce_mean(cross_entropy)\n",
    "regularizers = tf.nn.l2_loss(fc1_weights) + tf.nn.l2_loss(fc2_weights)\n",
    "cost = tf.reduce_mean(cost + regularization_coefficient * regularizers)\n",
    "optimizer = tf.train.AdamOptimizer(learning_rate=1e-4).minimize(cost)\n",
    "correct_prediction = tf.equal(y_pred_cls, y_true_cls)\n",
    "accuracy = tf.reduce_mean(tf.cast(correct_prediction, tf.float32))"
   ]
  },
  {
   "cell_type": "code",
   "execution_count": 12,
   "metadata": {
    "collapsed": false,
    "deletable": true,
    "editable": true
   },
   "outputs": [],
   "source": [
    "\n",
    "\n",
    "def optimize(num_iterations):\n",
    "    global total_iterations\n",
    "    global train_scores\n",
    "\n",
    "    for i in range(total_iterations,\n",
    "                   total_iterations + num_iterations):\n",
    "        \n",
    "        x_batch, y_true_batch, _, _ = data.train.next_batch(train_batch_size)\n",
    "        feed_dict_train = {x: x_batch,y_true: y_true_batch}\n",
    "\n",
    "        session.run(optimizer, feed_dict=feed_dict_train)\n",
    "\n",
    "        if i % 10 == 0:\n",
    "            acc = session.run(accuracy, feed_dict=feed_dict_train)\n",
    "            train_scores.append(acc)\n",
    "            msg = \"Optimization Iteration: {0:>6}, Training Accuracy: {1:>6.1%}\"\n",
    "            print(msg.format(i + 1, acc))\n",
    "    total_iterations += num_iterations\n",
    "\n"
   ]
  },
  {
   "cell_type": "code",
   "execution_count": 13,
   "metadata": {
    "collapsed": true,
    "deletable": true,
    "editable": true
   },
   "outputs": [],
   "source": [
    "# Split the validation-set into smaller batches of this size.\n",
    "validation_batch_size = 256\n",
    "\n",
    "def print_validation_accuracy():\n",
    "    num_validation = len(data.validation.images)\n",
    "    cls_pred = np.zeros(shape=num_validation, dtype=np.int)\n",
    "    i = 0\n",
    "    while i < num_validation:\n",
    "        j = min(i + validation_batch_size, num_validation)\n",
    "        images = data.validation.images[i:j, :]\n",
    "        labels = data.validation.labels[i:j, :]\n",
    "        feed_dict = {x: images,y_true: labels}\n",
    "        cls_pred[i:j] = session.run(y_pred_cls, feed_dict=feed_dict)\n",
    "        i = j\n",
    "    cls_true = data.validation.cls\n",
    "    correct = (cls_true == cls_pred)\n",
    "    acc = float(correct.sum()) / num_validation\n",
    "    msg = \"Accuracy on validation-Set: {0:.1%} ({1} / {2})\"\n",
    "    print(msg.format(acc, correct_sum, num_validation))\n",
    "\n"
   ]
  },
  {
   "cell_type": "code",
   "execution_count": 15,
   "metadata": {
    "collapsed": false
   },
   "outputs": [
    {
     "name": "stdout",
     "output_type": "stream",
     "text": [
      "Optimization Iteration:      1, Training Accuracy:  11.4%\n",
      "Optimization Iteration:     11, Training Accuracy:   9.8%\n",
      "Optimization Iteration:     21, Training Accuracy:  15.2%\n",
      "Optimization Iteration:     31, Training Accuracy:  19.7%\n",
      "Optimization Iteration:     41, Training Accuracy:  21.2%\n",
      "Optimization Iteration:     51, Training Accuracy:  18.9%\n",
      "Optimization Iteration:     61, Training Accuracy:  21.2%\n",
      "Optimization Iteration:     71, Training Accuracy:  21.2%\n",
      "Optimization Iteration:     81, Training Accuracy:  25.8%\n",
      "Optimization Iteration:     91, Training Accuracy:  34.8%\n",
      "Optimization Iteration:    101, Training Accuracy:  37.1%\n",
      "Optimization Iteration:    111, Training Accuracy:  34.8%\n",
      "Optimization Iteration:    121, Training Accuracy:  44.7%\n",
      "Optimization Iteration:    131, Training Accuracy:  46.2%\n",
      "Optimization Iteration:    141, Training Accuracy:  35.6%\n",
      "Optimization Iteration:    151, Training Accuracy:  42.4%\n",
      "Optimization Iteration:    161, Training Accuracy:  33.3%\n",
      "Optimization Iteration:    171, Training Accuracy:  43.9%\n",
      "Optimization Iteration:    181, Training Accuracy:  46.2%\n",
      "Optimization Iteration:    191, Training Accuracy:  58.3%\n"
     ]
    }
   ],
   "source": [
    "np.random.seed(1)\n",
    "session = tf.Session()\n",
    "session.run(tf.global_variables_initializer())\n",
    "\n",
    "total_iterations = 0\n",
    "train_scores = []\n",
    "\n",
    "optimize(num_iterations=200)"
   ]
  },
  {
   "cell_type": "code",
   "execution_count": 14,
   "metadata": {
    "collapsed": false,
    "deletable": true,
    "editable": true
   },
   "outputs": [
    {
     "name": "stdout",
     "output_type": "stream",
     "text": [
      "Optimization Iteration:      1, Training Accuracy:   9.8%\n",
      "Optimization Iteration:     11, Training Accuracy:  12.9%\n",
      "Optimization Iteration:     21, Training Accuracy:   9.1%\n",
      "Optimization Iteration:     31, Training Accuracy:  13.6%\n",
      "Optimization Iteration:     41, Training Accuracy:  15.2%\n",
      "Optimization Iteration:     51, Training Accuracy:  22.7%\n",
      "Optimization Iteration:     61, Training Accuracy:  23.5%\n",
      "Optimization Iteration:     71, Training Accuracy:  22.0%\n",
      "Optimization Iteration:     81, Training Accuracy:  22.0%\n",
      "Optimization Iteration:     91, Training Accuracy:  28.8%\n",
      "Optimization Iteration:    101, Training Accuracy:  31.8%\n",
      "Optimization Iteration:    111, Training Accuracy:  32.6%\n",
      "Optimization Iteration:    121, Training Accuracy:  34.8%\n",
      "Optimization Iteration:    131, Training Accuracy:  36.4%\n",
      "Optimization Iteration:    141, Training Accuracy:  37.9%\n",
      "Optimization Iteration:    151, Training Accuracy:  32.6%\n",
      "Optimization Iteration:    161, Training Accuracy:  45.5%\n",
      "Optimization Iteration:    171, Training Accuracy:  47.0%\n",
      "Optimization Iteration:    181, Training Accuracy:  38.6%\n",
      "Optimization Iteration:    191, Training Accuracy:  47.0%\n"
     ]
    }
   ],
   "source": [
    "np.random.seed(1)\n",
    "session = tf.Session()\n",
    "session.run(tf.global_variables_initializer())\n",
    "\n",
    "total_iterations = 0\n",
    "train_scores = []\n",
    "\n",
    "optimize(num_iterations=200)"
   ]
  },
  {
   "cell_type": "code",
   "execution_count": 86,
   "metadata": {
    "collapsed": false,
    "deletable": true,
    "editable": true
   },
   "outputs": [
    {
     "name": "stdout",
     "output_type": "stream",
     "text": [
      "Optimization Iteration:      1, Training Accuracy:  14.0%\n",
      "Optimization Iteration:    101, Training Accuracy:  36.0%\n",
      "Optimization Iteration:    201, Training Accuracy:  43.0%\n",
      "Optimization Iteration:    301, Training Accuracy:  52.0%\n",
      "Optimization Iteration:    401, Training Accuracy:  70.0%\n",
      "Optimization Iteration:    501, Training Accuracy:  69.0%\n",
      "Optimization Iteration:    601, Training Accuracy:  67.0%\n",
      "Optimization Iteration:    701, Training Accuracy:  79.0%\n",
      "Optimization Iteration:    801, Training Accuracy:  71.0%\n",
      "Optimization Iteration:    901, Training Accuracy:  77.0%\n",
      "Optimization Iteration:   1001, Training Accuracy:  81.0%\n",
      "Optimization Iteration:   1101, Training Accuracy:  86.0%\n",
      "Optimization Iteration:   1201, Training Accuracy:  81.0%\n",
      "Optimization Iteration:   1301, Training Accuracy:  79.0%\n",
      "Optimization Iteration:   1401, Training Accuracy:  83.0%\n",
      "Optimization Iteration:   1501, Training Accuracy:  85.0%\n",
      "Optimization Iteration:   1601, Training Accuracy:  86.0%\n",
      "Optimization Iteration:   1701, Training Accuracy:  85.0%\n",
      "Optimization Iteration:   1801, Training Accuracy:  87.0%\n",
      "Optimization Iteration:   1901, Training Accuracy:  84.0%\n",
      "Time usage: 0:27:21\n"
     ]
    }
   ],
   "source": [
    "optimize(num_iterations=2000)"
   ]
  }
 ],
 "metadata": {
  "kernelspec": {
   "display_name": "Python 3",
   "language": "python",
   "name": "python3"
  },
  "language_info": {
   "codemirror_mode": {
    "name": "ipython",
    "version": 3
   },
   "file_extension": ".py",
   "mimetype": "text/x-python",
   "name": "python",
   "nbconvert_exporter": "python",
   "pygments_lexer": "ipython3",
   "version": "3.5.2"
  }
 },
 "nbformat": 4,
 "nbformat_minor": 2
}
