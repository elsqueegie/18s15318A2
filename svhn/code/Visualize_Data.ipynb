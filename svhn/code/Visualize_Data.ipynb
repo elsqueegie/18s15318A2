{
 "cells": [
  {
   "cell_type": "code",
   "execution_count": 1,
   "metadata": {},
   "outputs": [
    {
     "name": "stderr",
     "output_type": "stream",
     "text": [
      "/Users/jmacdonald/anaconda/lib/python3.5/importlib/_bootstrap.py:222: RuntimeWarning: compiletime version 3.6 of module 'tensorflow.python.framework.fast_tensor_util' does not match runtime version 3.5\n",
      "  return f(*args, **kwds)\n",
      "/Users/jmacdonald/anaconda/lib/python3.5/site-packages/h5py/__init__.py:36: FutureWarning: Conversion of the second argument of issubdtype from `float` to `np.floating` is deprecated. In future, it will be treated as `np.float64 == np.dtype(float).type`.\n",
      "  from ._conv import register_converters as _register_converters\n"
     ]
    },
    {
     "data": {
      "text/plain": [
       "'1.8.0'"
      ]
     },
     "execution_count": 1,
     "metadata": {},
     "output_type": "execute_result"
    }
   ],
   "source": [
    "# -*- coding: utf-8 -*-\n",
    "\"\"\"\n",
    "Created on Sun May 27 15:21:41 2018\n",
    "\n",
    "@author: james.macdonald\n",
    "\"\"\"\n",
    "\n",
    "import matplotlib.pyplot as plt\n",
    "import tensorflow as tf\n",
    "import numpy as np\n",
    "from sklearn.metrics import confusion_matrix\n",
    "import datetime as dt\n",
    "import random, subprocess, os\n",
    "from scipy.io import loadmat\n",
    "\n",
    "tf.__version__"
   ]
  },
  {
   "cell_type": "code",
   "execution_count": null,
   "metadata": {},
   "outputs": [],
   "source": [
    "def get_dataset(location, greyscale=\"balanced\"):\n",
    "    loaded = loadmat(location)\n",
    "    if greyscale != \"none\":\n",
    "        images = to_greyscale(np.array([loaded['X'][:,:,:,i] for i in range(loaded['X'].shape[3])]), scaling=greyscale)\n",
    "    else:\n",
    "        images = np.array([loaded['X'][:,:,:,i] for i in range(loaded['X'].shape[3])])\n",
    "    cls = np.array(loaded['y'][:,0])\n",
    "    cls[cls==10] = 0\n",
    "    labels = np.zeros([len(cls),10])\n",
    "    labels[range(len(labels)),cls] = 1\n",
    "    return images, labels, cls"
   ]
  },
  {
   "cell_type": "code",
   "execution_count": null,
   "metadata": {},
   "outputs": [],
   "source": [
    "g = get_dataset(train, greyscale='none')\n",
    "to_show = [3,113,143,199, 367, 505, 556, 698]"
   ]
  },
  {
   "cell_type": "code",
   "execution_count": null,
   "metadata": {},
   "outputs": [],
   "source": [
    "fig,axes = plt.subplots(2,8, figsize=(14,3))\n",
    "for i,x in enumerate(axes[0]):\n",
    "    x.imshow(g[0][to_show[i]])\n",
    "    x.set_xticks([])\n",
    "    x.set_yticks([])\n",
    "for i,x in enumerate(axes[1]):\n",
    "    x.imshow(to_greyscale(g[0][to_show[i]]), cmap='Greys')\n",
    "    x.set_xticks([])\n",
    "    x.set_yticks([])"
   ]
  },
  {
   "cell_type": "code",
   "execution_count": null,
   "metadata": {},
   "outputs": [],
   "source": []
  }
 ],
 "metadata": {
  "kernelspec": {
   "display_name": "Python 3",
   "language": "python",
   "name": "python3"
  },
  "language_info": {
   "codemirror_mode": {
    "name": "ipython",
    "version": 3
   },
   "file_extension": ".py",
   "mimetype": "text/x-python",
   "name": "python",
   "nbconvert_exporter": "python",
   "pygments_lexer": "ipython3",
   "version": "3.5.5"
  }
 },
 "nbformat": 4,
 "nbformat_minor": 2
}
