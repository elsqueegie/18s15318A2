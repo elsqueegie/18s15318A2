{
 "cells": [
  {
   "cell_type": "code",
   "execution_count": null,
   "metadata": {},
   "outputs": [],
   "source": [
    "import pandas as pd\n",
    "import numpy as np\n",
    "import os\n",
    "import matplotlib.pyplot as plt\n",
    "import seaborn as sns\n",
    "from sklearn.metrics import precision_score, recall_score, f1_score, accuracy_score, confusion_matrix\n",
    "\n",
    "def get_tpr_fpr(probas, ytestclass, i):\n",
    "    probs = pd.DataFrame(list(zip(probas[:,i], ytestclass==i)), columns=['probability','ytrue'])\n",
    "    function = lambda x: float(str(x).split(\",\")[1].split(\"]\")[0])\n",
    "    percentiles = pd.Series(pd.qcut(probs['probability'], q=100).sort_values(ascending=False).unique()).apply(function)\n",
    "    Ts = probs[probs['ytrue']]['probability']\n",
    "    Fs = probs[~probs['ytrue']]['probability']\n",
    "    tpr = []\n",
    "    fpr = []\n",
    "    for j in percentiles.values:\n",
    "        tpr.append(len(Ts[Ts>j]) / len(Ts))\n",
    "        fpr.append(len(Fs[Fs>j]) / len(Fs))\n",
    "    return np.array(tpr), np.array(fpr), percentiles.values\n",
    "\n",
    "def get_auc_score(tpr,fpr):\n",
    "    return np.trapz(tpr,fpr)\n",
    "\n",
    "def get_roc_auc_curves(outputs, label):\n",
    "    curves = pd.DataFrame(index=range(100))\n",
    "    for i in range(outputs.shape[1]):\n",
    "        curves[str(i)+'_tpr'],curves[str(i)+'_fpr'], _ = get_tpr_fpr(outputs, label, i)\n",
    "    return curves\n",
    "\n",
    "def get_weighted_auc_score(curves, label):\n",
    "    scores = []\n",
    "    for i in list(set(label)):\n",
    "        multiplier = len(label[label==i]) / len(label)\n",
    "        score = get_auc_score(curves[str(i)+'_tpr'],curves[str(i)+'_fpr'])\n",
    "        scores.append(multiplier * score)\n",
    "    return np.sum(scores)\n",
    "\n",
    "def get_weighted_curve(curves, label):\n",
    "    curves['tpr'], curves['fpr'] = 0,0\n",
    "    for i in range(10):\n",
    "        multiplier = len(label[label==i]) / len(label)\n",
    "        curves['tpr'] += curves[str(i)+\"_tpr\"] * multiplier \n",
    "        curves['fpr'] += curves[str(i)+\"_fpr\"] * multiplier \n",
    "    return curves[['tpr','fpr']]"
   ]
  }
 ],
 "metadata": {
  "kernelspec": {
   "display_name": "Python 3",
   "language": "python",
   "name": "python3"
  },
  "language_info": {
   "codemirror_mode": {
    "name": "ipython",
    "version": 3
   },
   "file_extension": ".py",
   "mimetype": "text/x-python",
   "name": "python",
   "nbconvert_exporter": "python",
   "pygments_lexer": "ipython3",
   "version": "3.5.5"
  }
 },
 "nbformat": 4,
 "nbformat_minor": 2
}
